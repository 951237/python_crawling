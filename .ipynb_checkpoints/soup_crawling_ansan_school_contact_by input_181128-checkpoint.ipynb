{
 "cells": [
  {
   "cell_type": "markdown",
   "metadata": {},
   "source": [
    "## 안산관내 초, 중, 고등학교 연락처 크롤링\n",
    "- 초, 중, 고, 특수를 선택한다.\n",
    "- 해당페이지를 크롤링한다.\n",
    "- 엑셀파일 타이틀 쓰기\n",
    "- 엑셀파일 데이터 쓰기\n",
    "- 오늘 날짜로 파일 저장"
   ]
  },
  {
   "cell_type": "markdown",
   "metadata": {},
   "source": [
    "## todo 저장받은 엑셀 파일 다듬기\n",
    "- 자동으로 셀값 줄이고 넓히기"
   ]
  },
  {
   "cell_type": "code",
   "execution_count": 1,
   "metadata": {},
   "outputs": [],
   "source": [
    "import urllib.request\n",
    "import bs4\n",
    "import openpyxl, pprint, os\n",
    "from datetime import date"
   ]
  },
  {
   "cell_type": "code",
   "execution_count": 2,
   "metadata": {},
   "outputs": [],
   "source": [
    "mayday = date.today() #오늘 날짜 변수에 저장."
   ]
  },
  {
   "cell_type": "markdown",
   "metadata": {},
   "source": [
    "#### 함수 - 학교 선택하기"
   ]
  },
  {
   "cell_type": "code",
   "execution_count": 55,
   "metadata": {},
   "outputs": [],
   "source": [
    "def input_school():\n",
    "    school = {'1': '초등학교', '2': '중학교', '3': '고등학교', '4': '특수학교'}\n",
    "    for i in school:\n",
    "        print('{}{} {}'.format(str(i), '.', school[str(i)]))\n",
    "\n",
    "    s = input('학교를 선택하세요.')\n",
    "    return school[s], s"
   ]
  },
  {
   "cell_type": "markdown",
   "metadata": {},
   "source": [
    "#### 함수 - 선택한 학교에 맞게 url에 입력할 영어 리턴"
   ]
  },
  {
   "cell_type": "code",
   "execution_count": 49,
   "metadata": {},
   "outputs": [],
   "source": [
    "def get_choice(p_input):\n",
    "    while True: #조건이 만족할때 까지 무한 반복\n",
    "        if p_input == '1':\n",
    "            choice = 'B'\n",
    "            break\n",
    "        elif p_input == '2':\n",
    "            choice = 'C'\n",
    "            break\n",
    "        elif p_input == '3':\n",
    "            choice = 'D'\n",
    "            break\n",
    "        elif p_input == '4':\n",
    "            choice = 'E'\n",
    "            break\n",
    "        elif p_input == '':\n",
    "            exit()\n",
    "        else :\n",
    "            s = input('학교를 선택하세요.')\n",
    "    return choice"
   ]
  },
  {
   "cell_type": "markdown",
   "metadata": {},
   "source": [
    "#### - 함수 url을 파싱해서 테이블 값을 리턴"
   ]
  },
  {
   "cell_type": "code",
   "execution_count": 54,
   "metadata": {},
   "outputs": [],
   "source": [
    "def soup_get_obj(p_choice, p_school):\n",
    "    print('\\n','홈페이지에서 %s 데이터를 다운로드 하고 있습니다...' %(school),'\\n')\n",
    "    url ='http://www.goeas.kr/USR/ORG/MNU9/SchoolList.do?orgType=%s'%(p_choice)\n",
    "    html = urllib.request.urlopen(url)\n",
    "    bs_obj = bs4.BeautifulSoup(html, 'html.parser')\n",
    "    all_td = bs_obj.find_all('td')\n",
    "    return all_td"
   ]
  },
  {
   "cell_type": "markdown",
   "metadata": {},
   "source": [
    "#### 함수 - 테이블 값을 리스트로 만들기"
   ]
  },
  {
   "cell_type": "code",
   "execution_count": 44,
   "metadata": {},
   "outputs": [],
   "source": [
    "def get_list_school(p_all_td):\n",
    "    print('학교정보를 추출하는 중...','\\n')\n",
    "    list_school = []\n",
    "    # 태그를 텍스트로 바꾸어서 리스트로 변환\n",
    "    for td in p_all_td:\n",
    "        td_text = td.text.replace('\\n','').strip()\n",
    "        list_school.append(td_text)\n",
    "    return list_school"
   ]
  },
  {
   "cell_type": "markdown",
   "metadata": {},
   "source": [
    "#### 함수 - 워크시트와 시트 만들기"
   ]
  },
  {
   "cell_type": "code",
   "execution_count": 45,
   "metadata": {},
   "outputs": [],
   "source": [
    "def make_sheet():\n",
    "    print('엑셀파일을 생성합니다.','\\n')\n",
    "    wb = openpyxl.Workbook()\n",
    "    sheet = wb['Sheet']\n",
    "    return wb, sheet"
   ]
  },
  {
   "cell_type": "markdown",
   "metadata": {},
   "source": [
    "#### 함수 - 시트에 타이틀 쓰기"
   ]
  },
  {
   "cell_type": "code",
   "execution_count": 39,
   "metadata": {},
   "outputs": [],
   "source": [
    "def xlsx_write_titel():\n",
    "    print('데이터를 기록합니다.','\\n')\n",
    "    title = ['설립','학교명','주소','교무실','행정실','팩스']\n",
    "    for i in range(len(title)):\n",
    "        sheet.cell(row=1, column = i+1).value = title[i]"
   ]
  },
  {
   "cell_type": "markdown",
   "metadata": {},
   "source": [
    "#### 함수 - 타이틀을 쓴 함수에 학교정보 기록하여 파일로 저장하기"
   ]
  },
  {
   "cell_type": "code",
   "execution_count": 56,
   "metadata": {},
   "outputs": [],
   "source": [
    "def writeContent(p_list_school, p_school):\n",
    "    i = 0\n",
    "    # 2행부터 데이터 쓰기\n",
    "    for rowNum in range(int(len(p_list_school)/6)):\n",
    "        for colNum in range(6):\n",
    "            sheet.cell(row = rowNum+2, column = colNum+1).value = p_list_school[i]\n",
    "            i = i + 1\n",
    "    print('파일 저장중...', '\\n')\n",
    "    print('작업완료!!','\\n')\n",
    "    wb.save('ansan_school_contact_%s_%s.xlsx' %(p_school, mayday.strftime('%y%m%d'))) #엑셀 파일 저장하기"
   ]
  },
  {
   "cell_type": "markdown",
   "metadata": {},
   "source": [
    "#### 함수 - 엑셀파일 다듬기"
   ]
  },
  {
   "cell_type": "code",
   "execution_count": 36,
   "metadata": {},
   "outputs": [],
   "source": [
    "def work_excel_file():\n",
    "    return"
   ]
  },
  {
   "cell_type": "markdown",
   "metadata": {},
   "source": [
    "#### 실행문"
   ]
  },
  {
   "cell_type": "code",
   "execution_count": 60,
   "metadata": {},
   "outputs": [
    {
     "name": "stdout",
     "output_type": "stream",
     "text": [
      "1. 초등학교\n",
      "2. 중학교\n",
      "3. 고등학교\n",
      "4. 특수학교\n",
      "학교를 선택하세요.3\n",
      "\n",
      " 홈페이지에서 고등학교 데이터를 다운로드 하고 있습니다... \n",
      "\n",
      "학교정보를 추출하는 중... \n",
      "\n",
      "엑셀파일을 생성합니다. \n",
      "\n",
      "데이터를 기록합니다. \n",
      "\n",
      "파일 저장중... \n",
      "\n",
      "작업완료!! \n",
      "\n"
     ]
    }
   ],
   "source": [
    "school, _input = input_school()\n",
    "choice = get_choice(_input)\n",
    "all_td = soup_get_obj(choice, school)\n",
    "list_school = get_list_school(all_td)\n",
    "wb, sheet = make_sheet()\n",
    "xlsx_write_titel()\n",
    "writeContent(list_school, school)"
   ]
  },
  {
   "cell_type": "code",
   "execution_count": null,
   "metadata": {},
   "outputs": [],
   "source": []
  }
 ],
 "metadata": {
  "kernelspec": {
   "display_name": "Python 3",
   "language": "python",
   "name": "python3"
  },
  "language_info": {
   "codemirror_mode": {
    "name": "ipython",
    "version": 3
   },
   "file_extension": ".py",
   "mimetype": "text/x-python",
   "name": "python",
   "nbconvert_exporter": "python",
   "pygments_lexer": "ipython3",
   "version": "3.6.4"
  }
 },
 "nbformat": 4,
 "nbformat_minor": 2
}
